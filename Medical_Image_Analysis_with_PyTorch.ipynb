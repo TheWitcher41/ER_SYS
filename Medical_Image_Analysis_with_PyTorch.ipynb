{
  "metadata": {
    "kernelspec": {
      "language": "python",
      "display_name": "Python 3",
      "name": "python3"
    },
    "language_info": {
      "name": "python",
      "version": "3.10.14",
      "mimetype": "text/x-python",
      "codemirror_mode": {
        "name": "ipython",
        "version": 3
      },
      "pygments_lexer": "ipython3",
      "nbconvert_exporter": "python",
      "file_extension": ".py"
    },
    "kaggle": {
      "accelerator": "none",
      "dataSources": [
        {
          "sourceId": 2343,
          "sourceType": "datasetVersion",
          "datasetId": 1012
        }
      ],
      "dockerImageVersionId": 30804,
      "isInternetEnabled": true,
      "language": "python",
      "sourceType": "notebook",
      "isGpuEnabled": false
    },
    "colab": {
      "name": "Medical Image Analysis with PyTorch",
      "provenance": [],
      "include_colab_link": true
    }
  },
  "nbformat_minor": 0,
  "nbformat": 4,
  "cells": [
    {
      "cell_type": "markdown",
      "metadata": {
        "id": "view-in-github",
        "colab_type": "text"
      },
      "source": [
        "<a href=\"https://colab.research.google.com/github/TheWitcher41/ER_SYS/blob/main/Medical_Image_Analysis_with_PyTorch.ipynb\" target=\"_parent\"><img src=\"https://colab.research.google.com/assets/colab-badge.svg\" alt=\"Open In Colab\"/></a>"
      ]
    },
    {
      "source": [
        "# IMPORTANT: RUN THIS CELL IN ORDER TO IMPORT YOUR KAGGLE DATA SOURCES,\n",
        "# THEN FEEL FREE TO DELETE THIS CELL.\n",
        "# NOTE: THIS NOTEBOOK ENVIRONMENT DIFFERS FROM KAGGLE'S PYTHON\n",
        "# ENVIRONMENT SO THERE MAY BE MISSING LIBRARIES USED BY YOUR\n",
        "# NOTEBOOK.\n",
        "import kagglehub\n",
        "kmader_siim_medical_images_path = kagglehub.dataset_download('kmader/siim-medical-images')\n",
        "\n",
        "print('Data source import complete.')\n"
      ],
      "metadata": {
        "id": "EZBBdHiVJdv1"
      },
      "cell_type": "code",
      "outputs": [],
      "execution_count": null
    },
    {
      "cell_type": "code",
      "source": [
        "from pathlib import Path\n",
        "import pydicom\n",
        "import matplotlib.pyplot as plt"
      ],
      "metadata": {
        "trusted": true,
        "execution": {
          "iopub.status.busy": "2024-12-03T16:31:03.880602Z",
          "iopub.execute_input": "2024-12-03T16:31:03.881005Z",
          "iopub.status.idle": "2024-12-03T16:31:04.215464Z",
          "shell.execute_reply.started": "2024-12-03T16:31:03.880968Z",
          "shell.execute_reply": "2024-12-03T16:31:04.213526Z"
        },
        "id": "YTq_iGU3Jdv3"
      },
      "outputs": [],
      "execution_count": null
    },
    {
      "cell_type": "code",
      "source": [
        "dicom_file = pydicom.dcmread('/kaggle/input/siim-medical-images/dicom_dir/ID_0000_AGE_0060_CONTRAST_1_CT.dcm')"
      ],
      "metadata": {
        "trusted": true,
        "execution": {
          "iopub.status.busy": "2024-12-03T16:31:04.217681Z",
          "iopub.execute_input": "2024-12-03T16:31:04.218073Z",
          "iopub.status.idle": "2024-12-03T16:31:04.250089Z",
          "shell.execute_reply.started": "2024-12-03T16:31:04.218035Z",
          "shell.execute_reply": "2024-12-03T16:31:04.248852Z"
        },
        "id": "GvvbvD0QJdv4"
      },
      "outputs": [],
      "execution_count": null
    },
    {
      "cell_type": "code",
      "source": [
        "print(dicom_file)"
      ],
      "metadata": {
        "trusted": true,
        "execution": {
          "iopub.status.busy": "2024-12-03T16:31:04.25182Z",
          "iopub.execute_input": "2024-12-03T16:31:04.252332Z",
          "iopub.status.idle": "2024-12-03T16:31:04.271458Z",
          "shell.execute_reply.started": "2024-12-03T16:31:04.252277Z",
          "shell.execute_reply": "2024-12-03T16:31:04.269924Z"
        },
        "id": "73y9A-3eJdv4"
      },
      "outputs": [],
      "execution_count": null
    },
    {
      "cell_type": "code",
      "source": [
        "dicom_file[0x0028, 0x0010]"
      ],
      "metadata": {
        "trusted": true,
        "execution": {
          "iopub.status.busy": "2024-12-03T16:31:04.27464Z",
          "iopub.execute_input": "2024-12-03T16:31:04.275144Z",
          "iopub.status.idle": "2024-12-03T16:31:04.291393Z",
          "shell.execute_reply.started": "2024-12-03T16:31:04.275092Z",
          "shell.execute_reply": "2024-12-03T16:31:04.289681Z"
        },
        "id": "rLYMAsG_Jdv4"
      },
      "outputs": [],
      "execution_count": null
    },
    {
      "cell_type": "code",
      "source": [
        "dicom_file.Rows"
      ],
      "metadata": {
        "trusted": true,
        "execution": {
          "iopub.status.busy": "2024-12-03T16:31:04.292968Z",
          "iopub.execute_input": "2024-12-03T16:31:04.293449Z",
          "iopub.status.idle": "2024-12-03T16:31:04.313862Z",
          "shell.execute_reply.started": "2024-12-03T16:31:04.293395Z",
          "shell.execute_reply": "2024-12-03T16:31:04.312334Z"
        },
        "id": "TPnArhn9Jdv4"
      },
      "outputs": [],
      "execution_count": null
    },
    {
      "cell_type": "code",
      "source": [
        "ct = dicom_file.pixel_array\n",
        "ct.shape"
      ],
      "metadata": {
        "trusted": true,
        "execution": {
          "iopub.status.busy": "2024-12-03T16:31:04.315417Z",
          "iopub.execute_input": "2024-12-03T16:31:04.315854Z",
          "iopub.status.idle": "2024-12-03T16:31:04.333431Z",
          "shell.execute_reply.started": "2024-12-03T16:31:04.315806Z",
          "shell.execute_reply": "2024-12-03T16:31:04.331404Z"
        },
        "id": "W5MOJza0Jdv5"
      },
      "outputs": [],
      "execution_count": null
    },
    {
      "cell_type": "code",
      "source": [
        "type(ct)"
      ],
      "metadata": {
        "trusted": true,
        "execution": {
          "iopub.status.busy": "2024-12-03T16:31:04.334998Z",
          "iopub.execute_input": "2024-12-03T16:31:04.335483Z",
          "iopub.status.idle": "2024-12-03T16:31:04.349285Z",
          "shell.execute_reply.started": "2024-12-03T16:31:04.335441Z",
          "shell.execute_reply": "2024-12-03T16:31:04.347629Z"
        },
        "id": "n_OGTgKYJdv5"
      },
      "outputs": [],
      "execution_count": null
    },
    {
      "cell_type": "code",
      "source": [
        "plt.figure()\n",
        "plt.imshow(ct, cmap='gray')"
      ],
      "metadata": {
        "trusted": true,
        "execution": {
          "iopub.status.busy": "2024-12-03T16:31:04.351739Z",
          "iopub.execute_input": "2024-12-03T16:31:04.35212Z",
          "iopub.status.idle": "2024-12-03T16:31:04.747964Z",
          "shell.execute_reply.started": "2024-12-03T16:31:04.352084Z",
          "shell.execute_reply": "2024-12-03T16:31:04.746569Z"
        },
        "id": "IMJ73kumJdv5"
      },
      "outputs": [],
      "execution_count": null
    },
    {
      "cell_type": "code",
      "source": [
        "path_to_head_mri = Path('/kaggle/input/siim-medical-images/dicom_dir')\n",
        "all_files = path_to_head_mri.glob('*')"
      ],
      "metadata": {
        "trusted": true,
        "execution": {
          "iopub.status.busy": "2024-12-03T16:31:04.749425Z",
          "iopub.execute_input": "2024-12-03T16:31:04.749792Z",
          "iopub.status.idle": "2024-12-03T16:31:04.755696Z",
          "shell.execute_reply.started": "2024-12-03T16:31:04.749757Z",
          "shell.execute_reply": "2024-12-03T16:31:04.754254Z"
        },
        "id": "zfwVzV6NJdv5"
      },
      "outputs": [],
      "execution_count": null
    },
    {
      "cell_type": "code",
      "source": [
        "type(all_files)"
      ],
      "metadata": {
        "trusted": true,
        "execution": {
          "iopub.status.busy": "2024-12-03T16:31:04.759318Z",
          "iopub.execute_input": "2024-12-03T16:31:04.759784Z",
          "iopub.status.idle": "2024-12-03T16:31:04.7751Z",
          "shell.execute_reply.started": "2024-12-03T16:31:04.759733Z",
          "shell.execute_reply": "2024-12-03T16:31:04.773759Z"
        },
        "id": "NAPMcEdTJdv5"
      },
      "outputs": [],
      "execution_count": null
    },
    {
      "cell_type": "code",
      "source": [
        "all_files"
      ],
      "metadata": {
        "trusted": true,
        "execution": {
          "iopub.status.busy": "2024-12-03T16:31:04.776636Z",
          "iopub.execute_input": "2024-12-03T16:31:04.777067Z",
          "iopub.status.idle": "2024-12-03T16:31:04.789238Z",
          "shell.execute_reply.started": "2024-12-03T16:31:04.777009Z",
          "shell.execute_reply": "2024-12-03T16:31:04.787983Z"
        },
        "id": "WI-JONbLJdv5"
      },
      "outputs": [],
      "execution_count": null
    },
    {
      "cell_type": "code",
      "source": [
        "mri_data = []\n",
        "\n",
        "for path in all_files:\n",
        "    data = pydicom.dcmread(path)\n",
        "    mri_data.append(data)"
      ],
      "metadata": {
        "trusted": true,
        "execution": {
          "iopub.status.busy": "2024-12-03T16:31:04.790645Z",
          "iopub.execute_input": "2024-12-03T16:31:04.791073Z",
          "iopub.status.idle": "2024-12-03T16:31:06.744716Z",
          "shell.execute_reply.started": "2024-12-03T16:31:04.791019Z",
          "shell.execute_reply": "2024-12-03T16:31:06.743616Z"
        },
        "id": "hZw1aoqBJdv5"
      },
      "outputs": [],
      "execution_count": null
    },
    {
      "cell_type": "code",
      "source": [
        "for slice in mri_data[:5]:\n",
        "    print(slice.SliceLocation)"
      ],
      "metadata": {
        "trusted": true,
        "execution": {
          "iopub.status.busy": "2024-12-03T16:31:06.746106Z",
          "iopub.execute_input": "2024-12-03T16:31:06.746582Z",
          "iopub.status.idle": "2024-12-03T16:31:06.753666Z",
          "shell.execute_reply.started": "2024-12-03T16:31:06.746537Z",
          "shell.execute_reply": "2024-12-03T16:31:06.752499Z"
        },
        "id": "H9XUdDvVJdv6"
      },
      "outputs": [],
      "execution_count": null
    },
    {
      "cell_type": "code",
      "source": [
        "mri_data_ordered = sorted(mri_data, key=lambda slice: slice.SliceLocation)"
      ],
      "metadata": {
        "trusted": true,
        "execution": {
          "iopub.status.busy": "2024-12-03T16:33:00.613258Z",
          "iopub.execute_input": "2024-12-03T16:33:00.614657Z",
          "iopub.status.idle": "2024-12-03T16:33:00.62309Z",
          "shell.execute_reply.started": "2024-12-03T16:33:00.614606Z",
          "shell.execute_reply": "2024-12-03T16:33:00.621725Z"
        },
        "id": "32OBrqLMJdv6"
      },
      "outputs": [],
      "execution_count": null
    },
    {
      "cell_type": "code",
      "source": [
        "for slice in mri_data_ordered[:5]:\n",
        "    print(slice.SliceLocation)"
      ],
      "metadata": {
        "trusted": true,
        "execution": {
          "iopub.status.busy": "2024-12-03T16:33:26.229176Z",
          "iopub.execute_input": "2024-12-03T16:33:26.229575Z",
          "iopub.status.idle": "2024-12-03T16:33:26.23576Z",
          "shell.execute_reply.started": "2024-12-03T16:33:26.229539Z",
          "shell.execute_reply": "2024-12-03T16:33:26.234361Z"
        },
        "id": "hDoLLBa3Jdv6"
      },
      "outputs": [],
      "execution_count": null
    },
    {
      "cell_type": "code",
      "source": [
        "full_volume = []\n",
        "\n",
        "for slice in mri_data_ordered:\n",
        "    full_volume.append(slice.pixel_array)"
      ],
      "metadata": {
        "trusted": true,
        "execution": {
          "iopub.status.busy": "2024-12-03T16:34:21.71596Z",
          "iopub.execute_input": "2024-12-03T16:34:21.716386Z",
          "iopub.status.idle": "2024-12-03T16:34:21.856901Z",
          "shell.execute_reply.started": "2024-12-03T16:34:21.716353Z",
          "shell.execute_reply": "2024-12-03T16:34:21.855178Z"
        },
        "id": "D72fuN1NJdv6"
      },
      "outputs": [],
      "execution_count": null
    },
    {
      "cell_type": "code",
      "source": [
        "full_volume[0]"
      ],
      "metadata": {
        "trusted": true,
        "execution": {
          "iopub.status.busy": "2024-12-03T16:34:28.440841Z",
          "iopub.execute_input": "2024-12-03T16:34:28.441254Z",
          "iopub.status.idle": "2024-12-03T16:34:28.449545Z",
          "shell.execute_reply.started": "2024-12-03T16:34:28.441206Z",
          "shell.execute_reply": "2024-12-03T16:34:28.44829Z"
        },
        "id": "3nO-xgvVJdv6"
      },
      "outputs": [],
      "execution_count": null
    },
    {
      "cell_type": "code",
      "source": [
        "fig, axis = plt.subplots(3,3,figsize=(10,10))\n",
        "\n",
        "slice_counter = 0\n",
        "for i in range(3):\n",
        "    for j in range(3):\n",
        "        axis[i][j].imshow(full_volume[slice_counter],cmap='gray')\n",
        "        slice_counter+=1"
      ],
      "metadata": {
        "trusted": true,
        "execution": {
          "iopub.status.busy": "2024-12-03T16:41:39.16355Z",
          "iopub.execute_input": "2024-12-03T16:41:39.16459Z",
          "iopub.status.idle": "2024-12-03T16:41:40.809741Z",
          "shell.execute_reply.started": "2024-12-03T16:41:39.16454Z",
          "shell.execute_reply": "2024-12-03T16:41:40.808553Z"
        },
        "id": "ppzKOyvaJdv6"
      },
      "outputs": [],
      "execution_count": null
    },
    {
      "cell_type": "code",
      "source": [
        "import SimpleITK as sitk"
      ],
      "metadata": {
        "trusted": true,
        "execution": {
          "iopub.status.busy": "2024-12-03T16:53:26.242976Z",
          "iopub.execute_input": "2024-12-03T16:53:26.24413Z",
          "iopub.status.idle": "2024-12-03T16:53:26.70502Z",
          "shell.execute_reply.started": "2024-12-03T16:53:26.244082Z",
          "shell.execute_reply": "2024-12-03T16:53:26.703904Z"
        },
        "id": "ava0W2k4Jdv6"
      },
      "outputs": [],
      "execution_count": null
    },
    {
      "cell_type": "code",
      "source": [
        "series_ids = sitk.ImageSeriesReader.GetGDCMSeriesIDs(str(path_to_head_mri))\n",
        "print(series_ids)"
      ],
      "metadata": {
        "trusted": true,
        "execution": {
          "iopub.status.busy": "2024-12-03T16:54:26.29238Z",
          "iopub.execute_input": "2024-12-03T16:54:26.2928Z",
          "iopub.status.idle": "2024-12-03T16:54:26.520333Z",
          "shell.execute_reply.started": "2024-12-03T16:54:26.292764Z",
          "shell.execute_reply": "2024-12-03T16:54:26.519071Z"
        },
        "id": "xfWmH5omJdv6"
      },
      "outputs": [],
      "execution_count": null
    },
    {
      "cell_type": "code",
      "source": [
        "series_file_names = sitk.ImageSeriesReader.GetGDCMSeriesFileNames(str(path_to_head_mri),series_ids[0])"
      ],
      "metadata": {
        "trusted": true,
        "execution": {
          "iopub.status.busy": "2024-12-03T16:56:13.695235Z",
          "iopub.execute_input": "2024-12-03T16:56:13.695994Z",
          "iopub.status.idle": "2024-12-03T16:56:13.826351Z",
          "shell.execute_reply.started": "2024-12-03T16:56:13.695956Z",
          "shell.execute_reply": "2024-12-03T16:56:13.824804Z"
        },
        "id": "b2Lonb_QJdv6"
      },
      "outputs": [],
      "execution_count": null
    },
    {
      "cell_type": "code",
      "source": [
        "type(series_file_names)"
      ],
      "metadata": {
        "trusted": true,
        "execution": {
          "iopub.status.busy": "2024-12-03T16:56:35.957741Z",
          "iopub.execute_input": "2024-12-03T16:56:35.958121Z",
          "iopub.status.idle": "2024-12-03T16:56:35.965993Z",
          "shell.execute_reply.started": "2024-12-03T16:56:35.958088Z",
          "shell.execute_reply": "2024-12-03T16:56:35.96454Z"
        },
        "id": "-eDZVV6DJdv6"
      },
      "outputs": [],
      "execution_count": null
    },
    {
      "cell_type": "code",
      "source": [
        "series_reader = sitk.ImageSeriesReader()\n",
        "series_reader.SetFileNames(series_file_names)"
      ],
      "metadata": {
        "trusted": true,
        "execution": {
          "iopub.status.busy": "2024-12-03T16:57:42.914385Z",
          "iopub.execute_input": "2024-12-03T16:57:42.914811Z",
          "iopub.status.idle": "2024-12-03T16:57:42.923598Z",
          "shell.execute_reply.started": "2024-12-03T16:57:42.914775Z",
          "shell.execute_reply": "2024-12-03T16:57:42.922393Z"
        },
        "id": "dMVGaZYGJdv6"
      },
      "outputs": [],
      "execution_count": null
    },
    {
      "cell_type": "code",
      "source": [
        "image_data = series_reader.Execute()"
      ],
      "metadata": {
        "trusted": true,
        "execution": {
          "iopub.status.busy": "2024-12-03T16:57:56.913647Z",
          "iopub.execute_input": "2024-12-03T16:57:56.914043Z",
          "iopub.status.idle": "2024-12-03T16:57:56.97226Z",
          "shell.execute_reply.started": "2024-12-03T16:57:56.914008Z",
          "shell.execute_reply": "2024-12-03T16:57:56.970849Z"
        },
        "id": "0RqA2QE4Jdv6"
      },
      "outputs": [],
      "execution_count": null
    },
    {
      "cell_type": "code",
      "source": [
        "head_mri = sitk.GetArrayFromImage(image_data)"
      ],
      "metadata": {
        "trusted": true,
        "execution": {
          "iopub.status.busy": "2024-12-03T16:58:50.731137Z",
          "iopub.execute_input": "2024-12-03T16:58:50.731569Z",
          "iopub.status.idle": "2024-12-03T16:58:50.740047Z",
          "shell.execute_reply.started": "2024-12-03T16:58:50.731532Z",
          "shell.execute_reply": "2024-12-03T16:58:50.738634Z"
        },
        "id": "qVUztec5Jdv6"
      },
      "outputs": [],
      "execution_count": null
    },
    {
      "cell_type": "code",
      "source": [
        "head_mri.shape"
      ],
      "metadata": {
        "trusted": true,
        "execution": {
          "iopub.status.busy": "2024-12-03T16:58:57.030821Z",
          "iopub.execute_input": "2024-12-03T16:58:57.031227Z",
          "iopub.status.idle": "2024-12-03T16:58:57.037981Z",
          "shell.execute_reply.started": "2024-12-03T16:58:57.031183Z",
          "shell.execute_reply": "2024-12-03T16:58:57.036758Z"
        },
        "id": "x7zwAs0AJdv6"
      },
      "outputs": [],
      "execution_count": null
    },
    {
      "cell_type": "code",
      "source": [
        "# fig, axis = plt.subplots(3,3,figsize=(10,10))\n",
        "\n",
        "# slice_counter = 0\n",
        "# for i in range(3):\n",
        "#     for j in range(3):\n",
        "#         axis[i][j].imshow(head_mri[slice_counter],cmap='gray')\n",
        "#         slice_counter+=1"
      ],
      "metadata": {
        "trusted": true,
        "execution": {
          "iopub.status.busy": "2024-12-03T16:59:23.320107Z",
          "iopub.execute_input": "2024-12-03T16:59:23.32056Z",
          "iopub.status.idle": "2024-12-03T16:59:24.854527Z",
          "shell.execute_reply.started": "2024-12-03T16:59:23.320504Z",
          "shell.execute_reply": "2024-12-03T16:59:24.852978Z"
        },
        "id": "WimokEQsJdv6"
      },
      "outputs": [],
      "execution_count": null
    },
    {
      "cell_type": "code",
      "source": [],
      "metadata": {
        "trusted": true,
        "id": "cfWRlF-iJdv6"
      },
      "outputs": [],
      "execution_count": null
    }
  ]
}